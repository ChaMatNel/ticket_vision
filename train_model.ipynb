{
 "cells": [
  {
   "cell_type": "code",
   "execution_count": null,
   "metadata": {},
   "outputs": [],
   "source": [
    "#python train.py --img 800 --batch 1 --epochs 105 --data C:\\Users\\chada\\OneDrive\\Desktop\\ticket_vision\\ticket_vision.yaml --weights yolov5s.pt --cache --name model_b1_e105\n",
    "#python detect.py --weights C:\\Users\\chada\\OneDrive\\Desktop\\ticket_vision\\models\\yolov5\\runs\\train\\my_experiment\\weights --img 800 --conf 0.25 --source C:\\Users\\chada\\OneDrive\\Desktop\\ticket_vision\\data\\images\\val\n",
    "\n",
    "#python detect.py --weights C:\\Users\\chada\\OneDrive\\Desktop\\ticket_vision\\models\\yolov5\\runs\\train\\model_b1_e100\\weights\\best.pt --img 800 --C:\\Users\\chada\\OneDrive\\Desktop\\ticket_vision\\data\\images\\holder --name test_inference"
   ]
  }
 ],
 "metadata": {
  "kernelspec": {
   "display_name": "Python 3",
   "language": "python",
   "name": "python3"
  },
  "language_info": {
   "name": "python",
   "version": "3.11.2"
  }
 },
 "nbformat": 4,
 "nbformat_minor": 2
}
